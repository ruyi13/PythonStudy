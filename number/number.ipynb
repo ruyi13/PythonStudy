{
 "cells": [
  {
   "cell_type": "markdown",
   "metadata": {},
   "source": [
    "# 数字对象\n",
    "## 1. 整数对象\n",
    "### 1.1 小整数对象\n",
    "。。。。\n",
    "### 1.2 大整数对象\n",
    "。。。。\n",
    "\n",
    "### 1.3 数字格式化输出\n",
    "在实际的应用过程中，我们需要将数字格式化后输出，并希望对数字的**位数，对齐，千分符**等进行控制。\n",
    "格式化输出单个数字可以直接用`f`前缀："
   ]
  },
  {
   "cell_type": "code",
   "execution_count": null,
   "metadata": {},
   "outputs": [],
   "source": [
    "x = 1234.56789\n",
    "print(\"位数\")\n",
    "print(f'0.2f format {x}:{x:0.2f}')\n",
    "print(\"对齐方式:\")\n",
    "print(f'>10.1f format {x}:{x:>10.1f}')\n",
    "print(f'<10.1f format {x}:{x:<10.1f}')\n",
    "print(f'^10.1f format {x}:{x:^10.1f}')\n",
    "print(f', format {x}:{x:,}')\n",
    "print(f'0,.1f format {x}:{x:0,.1f}')\n"
   ]
  },
  {
   "cell_type": "markdown",
   "metadata": {},
   "source": [
    "如果想使用指数计数法，可将前缀`f`改成`e/E`:\n"
   ]
  },
  {
   "cell_type": "code",
   "execution_count": 5,
   "metadata": {},
   "outputs": [
    {
     "name": "stdout",
     "output_type": "stream",
     "text": [
      "e format 1234.56789:1.234568e+03\n",
      "0.2E format 1234.56789 is 1.23E+03\n"
     ]
    }
   ],
   "source": [
    "x = 1234.56789\n",
    "print(f'e format {x}:{x:e}')\n",
    "print(f'0.2E format {x} is {x:0.2E}')"
   ]
  },
  {
   "cell_type": "markdown",
   "metadata": {},
   "source": []
  }
 ],
 "metadata": {
  "kernelspec": {
   "display_name": "Python 3.10.8 64-bit",
   "language": "python",
   "name": "python3"
  },
  "language_info": {
   "codemirror_mode": {
    "name": "ipython",
    "version": 3
   },
   "file_extension": ".py",
   "mimetype": "text/x-python",
   "name": "python",
   "nbconvert_exporter": "python",
   "pygments_lexer": "ipython3",
   "version": "3.10.8"
  },
  "orig_nbformat": 4,
  "vscode": {
   "interpreter": {
    "hash": "370179c9fd34ab422db6f3005b0ae475a58980f93b739a5d8aba73b57746b4c1"
   }
  }
 },
 "nbformat": 4,
 "nbformat_minor": 2
}
